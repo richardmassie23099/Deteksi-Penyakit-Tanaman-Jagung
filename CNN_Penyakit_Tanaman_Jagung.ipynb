{
  "nbformat": 4,
  "nbformat_minor": 0,
  "metadata": {
    "colab": {
      "name": "CNN_Penyakit_Tanaman_Jagung.ipynb",
      "provenance": [],
      "collapsed_sections": []
    },
    "kernelspec": {
      "name": "python3",
      "display_name": "Python 3"
    },
    "language_info": {
      "name": "python"
    },
    "accelerator": "GPU",
    "gpuClass": "standard"
  },
  "cells": [
    {
      "cell_type": "markdown",
      "source": [
        "#Menghubungkan ke direktori Drive"
      ],
      "metadata": {
        "id": "FKTC-kF7lECS"
      }
    },
    {
      "cell_type": "code",
      "execution_count": 1,
      "metadata": {
        "colab": {
          "base_uri": "https://localhost:8080/"
        },
        "id": "oJBwDO0UkXqK",
        "outputId": "709f716e-1a45-459c-afb3-c1af11f5d07a"
      },
      "outputs": [
        {
          "output_type": "stream",
          "name": "stdout",
          "text": [
            "Mounted at /content/drive\n"
          ]
        }
      ],
      "source": [
        "from google.colab import drive\n",
        "import os\n",
        "\n",
        "drive.mount('/content/drive')"
      ]
    },
    {
      "cell_type": "code",
      "source": [
        "base_dir = '/content/drive/MyDrive/Project_CNN'"
      ],
      "metadata": {
        "id": "msmbZtMtlB3R"
      },
      "execution_count": 2,
      "outputs": []
    },
    {
      "cell_type": "code",
      "source": [
        "%cd /content/drive/MyDrive/Project_CNN"
      ],
      "metadata": {
        "id": "Jw38eKkKlBwO",
        "colab": {
          "base_uri": "https://localhost:8080/"
        },
        "outputId": "18167b56-16bd-4847-a5b1-bdb0e6383553"
      },
      "execution_count": 3,
      "outputs": [
        {
          "output_type": "stream",
          "name": "stdout",
          "text": [
            "/content/drive/MyDrive/Project_CNN\n"
          ]
        }
      ]
    },
    {
      "cell_type": "code",
      "source": [
        "!ls"
      ],
      "metadata": {
        "id": "KU4bXg9plBje",
        "colab": {
          "base_uri": "https://localhost:8080/"
        },
        "outputId": "4270df24-9f63-4d33-9057-d6e7698be402"
      },
      "execution_count": 4,
      "outputs": [
        {
          "output_type": "stream",
          "name": "stdout",
          "text": [
            "dataset_penyakit_daun  model.h5\t\t    testing  validation\n",
            "model1.json\t       my_model_weights.h5  train\n"
          ]
        }
      ]
    },
    {
      "cell_type": "code",
      "source": [
        "#!unzip \\*.zip  && rm *.zip"
      ],
      "metadata": {
        "id": "OIT_6JiHm5vi"
      },
      "execution_count": null,
      "outputs": []
    },
    {
      "cell_type": "code",
      "source": [
        "#menentukan direktori\n",
        "dataset_dir = os.path.join(base_dir, 'dataset_penyakit_daun')\n",
        "train_dir = os.path.join(base_dir, 'train')\n",
        "validation_dir = os.path.join(base_dir, 'validation')"
      ],
      "metadata": {
        "id": "6j4JOaRknJ3I"
      },
      "execution_count": 5,
      "outputs": []
    },
    {
      "cell_type": "code",
      "source": [
        "#melihat dataset folder dataset\n",
        "diseases = os.listdir(dataset_dir)\n",
        "print(diseases)"
      ],
      "metadata": {
        "colab": {
          "base_uri": "https://localhost:8080/"
        },
        "id": "MBLI6RjonTTT",
        "outputId": "93957773-f11a-49a9-ebf3-42a39c84b883"
      },
      "execution_count": 6,
      "outputs": [
        {
          "output_type": "stream",
          "name": "stdout",
          "text": [
            "['Hawar_Daun_Jagung_Komplikasi', 'Gejala_Bercak_Daun_Jagung', 'Bulai_Daun_Jagung', 'Gejala_Hawar_Daun_Jagung', 'Daun_Jagung_Sehat']\n"
          ]
        }
      ]
    },
    {
      "cell_type": "code",
      "source": [
        "Gejala_Bercak_dir = os.path.join(dataset_dir, 'Gejala_Bercak_Daun_Jagung/') \n",
        "Gejala_Hawar_dir = os.path.join(dataset_dir, 'Gejala_Hawar_Daun_Jagung/')\n",
        "Bulai_Daun_dir = os.path.join(dataset_dir, 'Bulai_Daun_Jagung/')\n",
        "Hawar_Daun_dir = os.path.join(dataset_dir, 'Hawar_Daun_Jagung_Komplikasi/')\n",
        "Daun_Sehat_dir = os.path.join(dataset_dir, 'Daun_Jagung_Sehat/')\n",
        "\n",
        "print(\"Jumlah data dataset tiap kelas\")\n",
        "print('Jumlah gambar Gejala Bercak Daun :', len(os.listdir(Gejala_Bercak_dir)))\n",
        "print('Jumlah gambar Gejala Hawar Daun :', len(os.listdir(Gejala_Hawar_dir)))\n",
        "print('Jumlah gambar Bulai Daun :', len(os.listdir(Bulai_Daun_dir)))\n",
        "print('Jumlah gambar Hawar Daun :', len(os.listdir(Hawar_Daun_dir)))\n",
        "print('Jumlah gambar Daun Sehat :', len(os.listdir(Daun_Sehat_dir)))\n"
      ],
      "metadata": {
        "colab": {
          "base_uri": "https://localhost:8080/"
        },
        "id": "lrpZ9pCnoUFr",
        "outputId": "76203104-c3e0-405c-86ef-e62e31c00b9a"
      },
      "execution_count": 7,
      "outputs": [
        {
          "output_type": "stream",
          "name": "stdout",
          "text": [
            "Jumlah data dataset tiap kelas\n",
            "Jumlah gambar Gejala Bercak Daun : 100\n",
            "Jumlah gambar Gejala Hawar Daun : 100\n",
            "Jumlah gambar Bulai Daun : 57\n",
            "Jumlah gambar Hawar Daun : 100\n",
            "Jumlah gambar Daun Sehat : 100\n"
          ]
        }
      ]
    },
    {
      "cell_type": "code",
      "source": [
        "#direktori isi training\n",
        "train_gejala_bercak = os.path.join(train_dir, 'Gejala_Bercak_Daun_Jagung/')\n",
        "train_gejala_hawar = os.path.join(train_dir, 'Gejala_Hawar_Daun_Jagung/')\n",
        "train_bulai = os.path.join(train_dir, 'Bulai_Daun_Jagung/')\n",
        "train_hawar = os.path.join(train_dir, 'Hawar_Daun_Jagung_Komplikasi/')\n",
        "train_sehat = os.path.join(train_dir, 'Daun_Jagung_Sehat/')\n",
        "\n",
        "#direktori isi validasi\n",
        "validation_gejala_bercak = os.path.join(validation_dir, 'Gejala_Bercak_Daun_Jagung/')\n",
        "validation_gejala_hawar = os.path.join(validation_dir, 'Gejala_Hawar_Daun_Jagung/')\n",
        "validation_bulai = os.path.join(validation_dir, 'Bulai_Daun_Jagung/')\n",
        "validation_hawar = os.path.join(validation_dir, 'Hawar_Daun_Jagung_Komplikasi/')\n",
        "validation_sehat = os.path.join(validation_dir, 'Daun_Jagung_Sehat/')\n"
      ],
      "metadata": {
        "id": "0qqKscXLoKWi"
      },
      "execution_count": 8,
      "outputs": []
    },
    {
      "cell_type": "markdown",
      "source": [
        "#Mempersiapkan Library"
      ],
      "metadata": {
        "id": "aN5Ssyy46hXW"
      }
    },
    {
      "cell_type": "code",
      "source": [
        "import tensorflow as tf\n",
        "from tensorflow.keras.optimizers import Adam\n",
        "from tensorflow.keras.preprocessing.image import ImageDataGenerator\n",
        "import random\n",
        "from shutil import copyfile\n",
        "import os                       #for working with files\n",
        "import numpy as np              #for numerical computationss\n",
        "import pandas as pd             #for working with dataframes\n",
        "import torch                    #Pytorch module \n",
        "import matplotlib.pyplot as plt #for plotting informations on graph and images using tensors\n",
        "import torch.nn as nn           #for creating  neural networks\n",
        "from torch.utils.data import DataLoader      #for dataloaders \n",
        "from PIL import Image                        #for checking images\n",
        "import torch.nn.functional as F              #for functions for calculating loss\n",
        "import torchvision.transforms as transforms  #for transforming images into tensors \n",
        "from torchvision.utils import make_grid      #for data checking\n",
        "from torchsummary import summary             #for getting the summary of our model\n",
        "\n",
        "%matplotlib inline"
      ],
      "metadata": {
        "id": "uqcB4wwJ0-Au"
      },
      "execution_count": 9,
      "outputs": []
    },
    {
      "cell_type": "markdown",
      "source": [
        "#Preprocessing Data"
      ],
      "metadata": {
        "id": "AqLsR0kx6p2X"
      }
    },
    {
      "cell_type": "code",
      "source": [
        "def train_val_split(source,train,val,train_ratio):\n",
        "  total_size = len(os.listdir(source))\n",
        "  train_size = int(train_ratio * total_size)\n",
        "  val_size = total_size - train_size\n",
        "\n",
        "  randomized = random.sample(os.listdir(source), total_size)\n",
        "  train_files = randomized[0:train_size]\n",
        "  val_files = randomized[train_size:total_size]\n",
        "\n",
        "  for i in train_files:\n",
        "    i_file = source + i\n",
        "    destination = train + i\n",
        "    copyfile(i_file, destination)\n",
        "\n",
        "  for i in val_files:\n",
        "    i_file = source + i\n",
        "    destination = val + i\n",
        "    copyfile(i_file, destination)\n",
        "\n",
        "train_ratio = 0.8\n",
        "\n",
        "source_00 = Gejala_Bercak_dir\n",
        "train_00 = train_gejala_bercak\n",
        "val_00 = validation_gejala_bercak\n",
        "train_val_split(source_00, train_00, val_00, train_ratio)\n",
        "\n",
        "source_01 = Gejala_Hawar_dir\n",
        "train_01 = train_gejala_hawar\n",
        "val_01 = validation_gejala_hawar\n",
        "train_val_split(source_01, train_01, val_01, train_ratio)\n",
        "\n",
        "source_02 = Bulai_Daun_dir\n",
        "train_02 = train_bulai\n",
        "val_02 = validation_bulai\n",
        "train_val_split(source_02, train_02, val_02, train_ratio)\n",
        "\n",
        "source_03 = Hawar_Daun_dir\n",
        "train_03 = train_hawar\n",
        "val_03 = validation_hawar\n",
        "train_val_split(source_03, train_03, val_03, train_ratio)\n",
        "\n",
        "source_04 = Daun_Sehat_dir\n",
        "train_04 = train_sehat\n",
        "val_04 = validation_sehat\n",
        "train_val_split(source_04, train_04, val_04, train_ratio)\n"
      ],
      "metadata": {
        "id": "mr8ZTpnUoO4y"
      },
      "execution_count": null,
      "outputs": []
    },
    {
      "cell_type": "code",
      "source": [
        "print('Jumlah seluruh bercak daun :', len(os.listdir(Gejala_Bercak_dir)))\n",
        "print('Jumlah train bercak daun :', len(os.listdir(train_gejala_bercak)))\n",
        "print('Jumlah val bercak daun :', len(os.listdir(validation_gejala_bercak)))"
      ],
      "metadata": {
        "colab": {
          "base_uri": "https://localhost:8080/"
        },
        "id": "MFTmjfuKoOlB",
        "outputId": "eeef4382-b956-41ab-846a-d7b107744553"
      },
      "execution_count": 10,
      "outputs": [
        {
          "output_type": "stream",
          "name": "stdout",
          "text": [
            "Jumlah seluruh bercak daun : 100\n",
            "Jumlah train bercak daun : 80\n",
            "Jumlah val bercak daun : 20\n"
          ]
        }
      ]
    },
    {
      "cell_type": "code",
      "source": [
        "print('Jumlah seluruh hawar daun :', len(os.listdir(Gejala_Hawar_dir)))\n",
        "print('Jumlah train hawar daun :', len(os.listdir(train_gejala_hawar)))\n",
        "print('Jumlah val hawar daun :', len(os.listdir(validation_gejala_hawar)))"
      ],
      "metadata": {
        "colab": {
          "base_uri": "https://localhost:8080/"
        },
        "id": "PaVJcztj0IA0",
        "outputId": "21a89d79-e241-4f14-8295-aa8dfe048b6a"
      },
      "execution_count": 11,
      "outputs": [
        {
          "output_type": "stream",
          "name": "stdout",
          "text": [
            "Jumlah seluruh hawar daun : 100\n",
            "Jumlah train hawar daun : 80\n",
            "Jumlah val hawar daun : 20\n"
          ]
        }
      ]
    },
    {
      "cell_type": "code",
      "source": [
        "print('Jumlah seluruh bulai daun :', len(os.listdir(Bulai_Daun_dir)))\n",
        "print('Jumlah train bulai daun :', len(os.listdir(train_bulai)))\n",
        "print('Jumlah val bulai daun :', len(os.listdir(validation_bulai)))"
      ],
      "metadata": {
        "colab": {
          "base_uri": "https://localhost:8080/"
        },
        "id": "uxeV91n_0H79",
        "outputId": "44af3548-9ded-42f4-c20d-d3a5d2ce1159"
      },
      "execution_count": 12,
      "outputs": [
        {
          "output_type": "stream",
          "name": "stdout",
          "text": [
            "Jumlah seluruh bulai daun : 57\n",
            "Jumlah train bulai daun : 45\n",
            "Jumlah val bulai daun : 12\n"
          ]
        }
      ]
    },
    {
      "cell_type": "code",
      "source": [
        "print('Jumlah seluruh hawar daun komplikasi :', len(os.listdir(Hawar_Daun_dir)))\n",
        "print('Jumlah train hawar daun komplikasi :', len(os.listdir(train_hawar)))\n",
        "print('Jumlah val hawar daun komplikasi :', len(os.listdir(validation_hawar)))"
      ],
      "metadata": {
        "colab": {
          "base_uri": "https://localhost:8080/"
        },
        "id": "3E1_pu-_oOS6",
        "outputId": "a6ca02bc-b4f3-47d7-9e60-7fca3f5b72cf"
      },
      "execution_count": 13,
      "outputs": [
        {
          "output_type": "stream",
          "name": "stdout",
          "text": [
            "Jumlah seluruh hawar daun komplikasi : 100\n",
            "Jumlah train hawar daun komplikasi : 80\n",
            "Jumlah val hawar daun komplikasi : 20\n"
          ]
        }
      ]
    },
    {
      "cell_type": "code",
      "source": [
        "print('Jumlah seluruh daun sehat :', len(os.listdir(Daun_Sehat_dir)))\n",
        "print('Jumlah train daun sehat :', len(os.listdir(train_sehat)))\n",
        "print('Jumlah val daun sehat :', len(os.listdir(validation_sehat)))"
      ],
      "metadata": {
        "colab": {
          "base_uri": "https://localhost:8080/"
        },
        "id": "YUwnJLxSAdLL",
        "outputId": "9c1e50e0-33a7-4b00-bbd9-3b6a61e4a03c"
      },
      "execution_count": 14,
      "outputs": [
        {
          "output_type": "stream",
          "name": "stdout",
          "text": [
            "Jumlah seluruh daun sehat : 100\n",
            "Jumlah train daun sehat : 80\n",
            "Jumlah val daun sehat : 20\n"
          ]
        }
      ]
    },
    {
      "cell_type": "code",
      "source": [
        "train_datagen = ImageDataGenerator(\n",
        "                  rescale = 1./255,\n",
        "                  rotation_range = 30,\n",
        "                  horizontal_flip = True,\n",
        "                  shear_range = 0.3,\n",
        "                  zoom_range = 0.1\n",
        ")\n",
        "\n",
        "valid_datagen = ImageDataGenerator(\n",
        "                  rescale = 1./255,\n",
        "                  rotation_range = 30,\n",
        "                  horizontal_flip = True,\n",
        "                  shear_range = 0.3,\n",
        "                  zoom_range = 0.1\n",
        ")\n",
        "\n",
        "test_datagen = ImageDataGenerator(\n",
        "                  rescale = 1./255\n",
        ")"
      ],
      "metadata": {
        "id": "qLwTUtHE099A"
      },
      "execution_count": 15,
      "outputs": []
    },
    {
      "cell_type": "code",
      "source": [
        "train_generator = train_datagen.flow_from_directory(\n",
        "    train_dir,\n",
        "    target_size = (150,150),\n",
        "    batch_size = 20,\n",
        "    class_mode = 'categorical'\n",
        ")\n",
        "\n",
        "val_generator = valid_datagen.flow_from_directory(\n",
        "    validation_dir,\n",
        "    target_size = (150,150),\n",
        "    batch_size = 20,\n",
        "    class_mode = 'categorical'\n",
        ")\n",
        "\n",
        "labels = (train_generator.class_indices)\n",
        "print(labels)"
      ],
      "metadata": {
        "colab": {
          "base_uri": "https://localhost:8080/"
        },
        "id": "peEPFOrJ095H",
        "outputId": "d78ffa2b-073e-489a-8180-f065fda1f135"
      },
      "execution_count": 38,
      "outputs": [
        {
          "output_type": "stream",
          "name": "stdout",
          "text": [
            "Found 365 images belonging to 5 classes.\n",
            "Found 92 images belonging to 5 classes.\n",
            "{'Bulai_Daun_Jagung': 0, 'Daun_Jagung_Sehat': 1, 'Gejala_Bercak_Daun_Jagung': 2, 'Gejala_Hawar_Daun_Jagung': 3, 'Hawar_Daun_Jagung_Komplikasi': 4}\n"
          ]
        }
      ]
    },
    {
      "cell_type": "code",
      "source": [
        "class myCallback(tf.keras.callbacks.Callback):\n",
        "  def on_epoch_end(self, epoch, logs = {}):\n",
        "    if(logs.get('accuracy') > 0.99):\n",
        "      print('\\nAkurasi mencapai 99%')\n",
        "      self.model.stop_training = True\n",
        "\n",
        "callbacks = myCallback()"
      ],
      "metadata": {
        "id": "O_tx0uch09x5"
      },
      "execution_count": 39,
      "outputs": []
    },
    {
      "cell_type": "code",
      "source": [
        "model = tf.keras.models.Sequential([\n",
        "    tf.keras.layers.Conv2D(16, (3,3), activation = 'relu', input_shape = (150, 150, 3)),\n",
        "    tf.keras.layers.MaxPooling2D(2,2),\n",
        "    tf.keras.layers.Conv2D(32, (3,3), activation = 'relu'),\n",
        "    tf.keras.layers.MaxPooling2D(2,2),\n",
        "    tf.keras.layers.Conv2D(64, (3,3), activation = 'relu'),\n",
        "    tf.keras.layers.MaxPooling2D(2,2),\n",
        "    tf.keras.layers.Flatten(),\n",
        "    tf.keras.layers.Dense(300, activation = 'relu'),\n",
        "    tf.keras.layers.Dense(5, activation = 'softmax')\n",
        "\n",
        "])"
      ],
      "metadata": {
        "id": "mDfdimY94fYi"
      },
      "execution_count": 40,
      "outputs": []
    },
    {
      "cell_type": "code",
      "source": [
        "model.summary()"
      ],
      "metadata": {
        "colab": {
          "base_uri": "https://localhost:8080/"
        },
        "id": "aonaTutN76XZ",
        "outputId": "5b936111-fe8a-4c10-e9e0-e3261d743eb5"
      },
      "execution_count": 41,
      "outputs": [
        {
          "output_type": "stream",
          "name": "stdout",
          "text": [
            "Model: \"sequential_3\"\n",
            "_________________________________________________________________\n",
            " Layer (type)                Output Shape              Param #   \n",
            "=================================================================\n",
            " conv2d_9 (Conv2D)           (None, 148, 148, 16)      448       \n",
            "                                                                 \n",
            " max_pooling2d_9 (MaxPooling  (None, 74, 74, 16)       0         \n",
            " 2D)                                                             \n",
            "                                                                 \n",
            " conv2d_10 (Conv2D)          (None, 72, 72, 32)        4640      \n",
            "                                                                 \n",
            " max_pooling2d_10 (MaxPoolin  (None, 36, 36, 32)       0         \n",
            " g2D)                                                            \n",
            "                                                                 \n",
            " conv2d_11 (Conv2D)          (None, 34, 34, 64)        18496     \n",
            "                                                                 \n",
            " max_pooling2d_11 (MaxPoolin  (None, 17, 17, 64)       0         \n",
            " g2D)                                                            \n",
            "                                                                 \n",
            " flatten_3 (Flatten)         (None, 18496)             0         \n",
            "                                                                 \n",
            " dense_8 (Dense)             (None, 300)               5549100   \n",
            "                                                                 \n",
            " dense_9 (Dense)             (None, 5)                 1505      \n",
            "                                                                 \n",
            "=================================================================\n",
            "Total params: 5,574,189\n",
            "Trainable params: 5,574,189\n",
            "Non-trainable params: 0\n",
            "_________________________________________________________________\n"
          ]
        }
      ]
    },
    {
      "cell_type": "code",
      "source": [
        "model.compile(loss = 'categorical_crossentropy',\n",
        "              optimizer = 'Adam',\n",
        "              metrics = ['accuracy'])"
      ],
      "metadata": {
        "id": "a4RZ7VmV8Kl9"
      },
      "execution_count": 42,
      "outputs": []
    },
    {
      "cell_type": "code",
      "source": [
        "history = model.fit(\n",
        "    train_generator,\n",
        "    steps_per_epoch = 14,\n",
        "    epochs = 30,\n",
        "    validation_data = val_generator,\n",
        "    validation_steps = 1,\n",
        "    verbose = 1,\n",
        "    callbacks = [callbacks]\n",
        ")"
      ],
      "metadata": {
        "colab": {
          "base_uri": "https://localhost:8080/"
        },
        "id": "GT3VhG9e8KUa",
        "outputId": "e5395856-7896-4264-b5e2-ddf86d8a113d"
      },
      "execution_count": 47,
      "outputs": [
        {
          "output_type": "stream",
          "name": "stdout",
          "text": [
            "Epoch 1/30\n",
            "14/14 [==============================] - 3s 202ms/step - loss: 0.0564 - accuracy: 0.9849 - val_loss: 0.5100 - val_accuracy: 0.8000\n",
            "Epoch 2/30\n",
            "14/14 [==============================] - 3s 180ms/step - loss: 0.0642 - accuracy: 0.9811 - val_loss: 0.6287 - val_accuracy: 0.8000\n",
            "Epoch 3/30\n",
            "14/14 [==============================] - 3s 188ms/step - loss: 0.1057 - accuracy: 0.9607 - val_loss: 1.0782 - val_accuracy: 0.7000\n",
            "Epoch 4/30\n",
            "14/14 [==============================] - 3s 190ms/step - loss: 0.0875 - accuracy: 0.9714 - val_loss: 0.5690 - val_accuracy: 0.8000\n",
            "Epoch 5/30\n",
            "14/14 [==============================] - 3s 179ms/step - loss: 0.0488 - accuracy: 0.9887 - val_loss: 0.4793 - val_accuracy: 0.8000\n",
            "Epoch 6/30\n",
            "14/14 [==============================] - 3s 190ms/step - loss: 0.0828 - accuracy: 0.9714 - val_loss: 0.6918 - val_accuracy: 0.8000\n",
            "Epoch 7/30\n",
            "14/14 [==============================] - 3s 190ms/step - loss: 0.1664 - accuracy: 0.9396 - val_loss: 1.0279 - val_accuracy: 0.7000\n",
            "Epoch 8/30\n",
            "14/14 [==============================] - 3s 188ms/step - loss: 0.2604 - accuracy: 0.9132 - val_loss: 0.4379 - val_accuracy: 0.8000\n",
            "Epoch 9/30\n",
            "14/14 [==============================] - 3s 203ms/step - loss: 0.1438 - accuracy: 0.9429 - val_loss: 0.3416 - val_accuracy: 0.8500\n",
            "Epoch 10/30\n",
            "14/14 [==============================] - 3s 191ms/step - loss: 0.1212 - accuracy: 0.9698 - val_loss: 0.5130 - val_accuracy: 0.8000\n",
            "Epoch 11/30\n",
            "14/14 [==============================] - 3s 181ms/step - loss: 0.0804 - accuracy: 0.9774 - val_loss: 1.0624 - val_accuracy: 0.6500\n",
            "Epoch 12/30\n",
            "14/14 [==============================] - 3s 181ms/step - loss: 0.0825 - accuracy: 0.9736 - val_loss: 0.3622 - val_accuracy: 0.8000\n",
            "Epoch 13/30\n",
            "14/14 [==============================] - 3s 178ms/step - loss: 0.0547 - accuracy: 0.9887 - val_loss: 0.2488 - val_accuracy: 0.9000\n",
            "Epoch 14/30\n",
            "14/14 [==============================] - 3s 192ms/step - loss: 0.0455 - accuracy: 0.9887 - val_loss: 0.3608 - val_accuracy: 0.9000\n",
            "Epoch 15/30\n",
            "14/14 [==============================] - 3s 188ms/step - loss: 0.0380 - accuracy: 0.9893 - val_loss: 0.3558 - val_accuracy: 0.9000\n",
            "Epoch 16/30\n",
            "13/14 [==========================>...] - ETA: 0s - loss: 0.0357 - accuracy: 0.9923\n",
            "Akurasi mencapai 99%\n",
            "14/14 [==============================] - 3s 181ms/step - loss: 0.0350 - accuracy: 0.9925 - val_loss: 0.2985 - val_accuracy: 0.9500\n"
          ]
        }
      ]
    },
    {
      "cell_type": "code",
      "source": [
        "import matplotlib.image as mpimg\n",
        "import matplotlib.pyplot as plt\n",
        "\n",
        "acc = history.history['accuracy']\n",
        "val_acc = history.history['val_accuracy']\n",
        "loss = history.history['loss']\n",
        "val_loss = history.history['val_loss']\n",
        "\n",
        "epochs = range(len(acc))\n",
        "\n",
        "plt.plot(epochs, acc, 'r', label = 'Training Accuracy')\n",
        "plt.plot(epochs, val_acc, 'b', label = 'Validation Accuracy')\n",
        "plt.title('Training and Validation Accuracy')\n",
        "plt.legend(loc = 'best')\n",
        "plt.show()\n",
        "\n",
        "plt.plot(epochs, loss, 'r', label = 'Training Loss')\n",
        "plt.plot(epochs, val_loss, 'b', label = 'Validation Loss')\n",
        "plt.title('Training and Validation Accuracy')\n",
        "plt.legend(loc = 'best')\n",
        "plt.show()"
      ],
      "metadata": {
        "colab": {
          "base_uri": "https://localhost:8080/",
          "height": 545
        },
        "id": "rS9G-XN8ZL4g",
        "outputId": "6a6b1b0f-2368-4063-d1fc-7bcc1abf6960"
      },
      "execution_count": 48,
      "outputs": [
        {
          "output_type": "display_data",
          "data": {
            "text/plain": [
              "<Figure size 432x288 with 1 Axes>"
            ],
            "image/png": "[encoded data removed]"
          },
          "metadata": {
            "needs_background": "light"
          }
        },
        {
          "output_type": "display_data",
          "data": {
            "text/plain": [
              "<Figure size 432x288 with 1 Axes>"
            ],
            "image/png": "[encoded data removed]"
          },
          "metadata": {
            "needs_background": "light"
          }
        }
      ]
    },
    {
      "cell_type": "code",
      "source": [
        "model_json=model.to_json()\n",
        "with open(\"model1.json\", \"w\") as json_file:\n",
        "    json_file.write(model_json)"
      ],
      "metadata": {
        "id": "2FgN-7LQEYN_"
      },
      "execution_count": 49,
      "outputs": []
    },
    {
      "cell_type": "code",
      "source": [
        "# serialize weights to HDF5\n",
        "model.save_weights(\"my_model_weights.h5\")\n",
        "model.save(\"model.h5\")\n",
        "   \n",
        "print(\"Saved model to disk\")"
      ],
      "metadata": {
        "colab": {
          "base_uri": "https://localhost:8080/"
        },
        "id": "OM5VHdD6Ea9f",
        "outputId": "da3bbdd0-1ae1-4b56-d5a0-4d7c182162a4"
      },
      "execution_count": 50,
      "outputs": [
        {
          "output_type": "stream",
          "name": "stdout",
          "text": [
            "Saved model to disk\n"
          ]
        }
      ]
    }
  ]
}