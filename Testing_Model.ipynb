{
  "nbformat": 4,
  "nbformat_minor": 0,
  "metadata": {
    "colab": {
      "name": "Testing_Model.ipynb",
      "provenance": [],
      "collapsed_sections": []
    },
    "kernelspec": {
      "name": "python3",
      "display_name": "Python 3"
    },
    "language_info": {
      "name": "python"
    },
    "accelerator": "GPU",
    "gpuClass": "standard"
  },
  "cells": [
    {
      "cell_type": "code",
      "execution_count": 1,
      "metadata": {
        "id": "y_kFDw3slR8f"
      },
      "outputs": [],
      "source": [
        "import cv2\n",
        "from matplotlib import pyplot as plt\n",
        "import os\n",
        "import numpy as np\n",
        "from tensorflow.keras.preprocessing.image import load_img\n",
        "from tensorflow.keras.preprocessing.image import img_to_array\n",
        "from tensorflow.keras.models import load_model"
      ]
    },
    {
      "cell_type": "code",
      "source": [
        "#menghubungkan google colab dengan gdrive\n",
        "from google.colab import drive \n",
        "drive.mount('/content/gdrive/',force_remount=True)"
      ],
      "metadata": {
        "colab": {
          "base_uri": "https://localhost:8080/"
        },
        "id": "_1Y-8sWRlnFQ",
        "outputId": "ac77e491-34b4-4075-bd9a-62294a03e04e"
      },
      "execution_count": 3,
      "outputs": [
        {
          "output_type": "stream",
          "name": "stdout",
          "text": [
            "Mounted at /content/gdrive/\n"
          ]
        }
      ]
    },
    {
      "cell_type": "code",
      "source": [
        "filepath = '/content/gdrive/MyDrive/Project_CNN/model.h5'\n",
        "model = load_model(filepath)\n",
        "print(model)"
      ],
      "metadata": {
        "colab": {
          "base_uri": "https://localhost:8080/"
        },
        "id": "DYehQBMwldv_",
        "outputId": "b8ef8c29-9932-4edf-c4b4-5948d9efb94d"
      },
      "execution_count": 4,
      "outputs": [
        {
          "output_type": "stream",
          "name": "stdout",
          "text": [
            "<keras.engine.sequential.Sequential object at 0x7fa5549d8850>\n"
          ]
        }
      ]
    },
    {
      "cell_type": "code",
      "source": [
        "print(\"Model Loaded Successfully\")\n",
        "\n",
        "corn_plant = cv2.imread('/content/gdrive/MyDrive/Project_CNN/testing/Bulai_Daun13.jpg')\n",
        "test_image = cv2.resize(corn_plant, (150,150)) # load image \n",
        "  \n",
        "test_image = img_to_array(test_image)/255 # convert image to np array and normalize\n",
        "test_image = np.expand_dims(test_image, axis = 0) # change dimention 3D to 4D\n",
        "  \n",
        "result = model.predict(test_image) # predict diseased palnt or not\n",
        "  \n",
        "pred = np.argmax(result, axis=1)\n",
        "print(pred)\n",
        "if pred==0:\n",
        "    print( \"Bulai_Daun_Jagung\")\n",
        "       \n",
        "elif pred==1:\n",
        "    print(\"Daun_Jagung_Sehat\")\n",
        "        \n",
        "elif pred==2:\n",
        "    print(\"Gejala_Bercak_Daun_Jagung\")\n",
        "        \n",
        "elif pred==3:\n",
        "    print(\"Gejala_Hawar_Daun_Jagung\")\n",
        "       \n",
        "elif pred==4:\n",
        "    print(\"Hawar_Daun_Jagung_Komplikasi\")"
      ],
      "metadata": {
        "colab": {
          "base_uri": "https://localhost:8080/"
        },
        "id": "ng8nAZgmlcsU",
        "outputId": "06d71dd8-c4ab-4bc6-fdea-91c4bfd356ee"
      },
      "execution_count": 12,
      "outputs": [
        {
          "output_type": "stream",
          "name": "stdout",
          "text": [
            "Model Loaded Successfully\n",
            "[0]\n",
            "Bulai_Daun_Jagung\n"
          ]
        }
      ]
    }
  ]
}